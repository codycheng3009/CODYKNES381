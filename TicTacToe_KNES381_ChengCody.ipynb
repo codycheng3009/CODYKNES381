# CodyCheng30090643 Additions made to Tictactoe code
    # turn override prevention to only allow inputs to free spaces
    # play again option once game concludes
    # prevent inputs from going over or under game values (0-2) --> prompt to pick another input instead of showing index error
    # instructions to explain the game a bit more clearly

print("Note: The numbers that you input and enter represent the column and row that you wish to choose for your placement. For example: 0 = first column/row, 1 = second, 2 = third. Only whole numbers will be valid (0,1,2).")    

# define the board
board = [["_" for i in range(3)] for j in range(3)]

# define the player's move + turn override prevention
def make_move(board, player, row, col):
    if board[row][col] == "_":
        board[row][col] = player
    else:
        print("This space has already been picked. Please pick another one.")
        row = int(input("Enter row (0-2): "))
        col = int(input("Enter column (0-2): "))
        make_move(board, player, row, col)

# define the function to check for a winner
def check_winner(board):
  # check rows
  for row in range(3):
    if board[row][0] == board[row][1] and board[row][1] == board[row][2] and board[row][0] != "_":
      return board[row][0]

  # check columns
  for col in range(3):
    if board[0][col] == board[1][col] and board[1][col] == board[2][col] and board[0][col] != "_":
      return board[0][col]

  # check diagonals
  if board[0][0] == board[1][1] and board[1][1] == board[2][2] and board[0][0] != "_":
    return board[0][0]
  if board[2][0] == board[1][1] and board[1][1] == board[0][2] and board[2][0] != "_":
    return board[2][0]

  # if there is no winner, return None
  return None

# define the function to check if the game is a draw
def check_draw(board):
  for row in range(3):
    for col in range(3):
      if board[row][col] == "_":
        return False
  return True

# define the function to play the game
def play_game():
  # initialize the game
  player = "X"
  winner = None
  draw = False

  # loop until the game is over
  while not winner and not draw:
    # print the current board
    for row in board:
      print(" ".join(row))

    # get the player's move + prevent inputs that are not 0,1,2
    row = int(input("Enter row (0-2): "))
    if row < 0 or row >0:
        print("Invalid. Please choose a whole number between 0 and 2")
        row = int(input("Enter row (0-2): "))
        
    col = int(input("Enter column (0-2): "))
    if col < 0 or col >0:
        print("Invalid. Please choose a whole number between 0 and 2")
        col = int(input("Enter row (0-2): "))
        
    # make the move
    make_move(board, player, row, col)

    # check for a winner
    winner = check_winner(board)

    # check for a draw
    draw = check_draw(board)

    # switch players
    if player == "X":
      player = "O"
    else:
      player = "X"

  # print the final board
  for row in board:
    print(" ".join(row))

  # print the result of the game
  if winner:
    print(f"Player {winner} wins!")
  else:
    print("The game is a draw.")

# play the game
play_game()

# play again option
play_again = input("Would you like to play again? (Yes/No)")
if play_again == "Yes" or play_again == "yes":
 #reset board to play again
 board = [["_" for i in range(3)] for j in range(3)]
 play_game()
if play_again == "No" or play_again == "no":
 print("Thanks for playing:)")
